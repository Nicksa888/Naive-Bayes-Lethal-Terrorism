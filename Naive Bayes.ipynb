{
 "cells": [
  {
   "cell_type": "markdown",
   "id": "f75fe44f",
   "metadata": {},
   "source": [
    "# Naive Bayes in Python"
   ]
  },
  {
   "cell_type": "code",
   "execution_count": 167,
   "id": "6c32ce15",
   "metadata": {},
   "outputs": [],
   "source": [
    "import numpy as np # linear algebra\n",
    "import pandas as pd # data processing, CSV file I/O (e.g. pd.read_csv)\n",
    "import matplotlib.pyplot as plt # for data visualization purposes\n",
    "import seaborn as sns # for statistical data visualization\n",
    "%matplotlib inline"
   ]
  },
  {
   "cell_type": "markdown",
   "id": "bb46c976",
   "metadata": {},
   "source": [
    "## Import Data"
   ]
  },
  {
   "cell_type": "code",
   "execution_count": 168,
   "id": "6c36fb64",
   "metadata": {},
   "outputs": [
    {
     "data": {
      "text/html": [
       "<div>\n",
       "<style scoped>\n",
       "    .dataframe tbody tr th:only-of-type {\n",
       "        vertical-align: middle;\n",
       "    }\n",
       "\n",
       "    .dataframe tbody tr th {\n",
       "        vertical-align: top;\n",
       "    }\n",
       "\n",
       "    .dataframe thead th {\n",
       "        text-align: right;\n",
       "    }\n",
       "</style>\n",
       "<table border=\"1\" class=\"dataframe\">\n",
       "  <thead>\n",
       "    <tr style=\"text-align: right;\">\n",
       "      <th></th>\n",
       "      <th>Decade</th>\n",
       "      <th>Year</th>\n",
       "      <th>Month</th>\n",
       "      <th>Week</th>\n",
       "      <th>Day</th>\n",
       "      <th>Extended</th>\n",
       "      <th>Country</th>\n",
       "      <th>Success</th>\n",
       "      <th>Multiple</th>\n",
       "      <th>Suicide</th>\n",
       "      <th>...</th>\n",
       "      <th>ArmedAssault</th>\n",
       "      <th>Infrastructure</th>\n",
       "      <th>Assassination</th>\n",
       "      <th>UnknownAttack</th>\n",
       "      <th>Explosives</th>\n",
       "      <th>UnknownWeapon</th>\n",
       "      <th>Firearms</th>\n",
       "      <th>Incendiary</th>\n",
       "      <th>Melee</th>\n",
       "      <th>OtherWeapon</th>\n",
       "    </tr>\n",
       "  </thead>\n",
       "  <tbody>\n",
       "    <tr>\n",
       "      <th>0</th>\n",
       "      <td>1970</td>\n",
       "      <td>1970</td>\n",
       "      <td>3</td>\n",
       "      <td>2</td>\n",
       "      <td>14</td>\n",
       "      <td>0</td>\n",
       "      <td>Egypt</td>\n",
       "      <td>1</td>\n",
       "      <td>0</td>\n",
       "      <td>0</td>\n",
       "      <td>...</td>\n",
       "      <td>0</td>\n",
       "      <td>0</td>\n",
       "      <td>0</td>\n",
       "      <td>0</td>\n",
       "      <td>1</td>\n",
       "      <td>0</td>\n",
       "      <td>0</td>\n",
       "      <td>0</td>\n",
       "      <td>0</td>\n",
       "      <td>0</td>\n",
       "    </tr>\n",
       "    <tr>\n",
       "      <th>1</th>\n",
       "      <td>1970</td>\n",
       "      <td>1970</td>\n",
       "      <td>3</td>\n",
       "      <td>4</td>\n",
       "      <td>29</td>\n",
       "      <td>0</td>\n",
       "      <td>Lebanon</td>\n",
       "      <td>1</td>\n",
       "      <td>0</td>\n",
       "      <td>0</td>\n",
       "      <td>...</td>\n",
       "      <td>0</td>\n",
       "      <td>0</td>\n",
       "      <td>0</td>\n",
       "      <td>0</td>\n",
       "      <td>1</td>\n",
       "      <td>0</td>\n",
       "      <td>0</td>\n",
       "      <td>0</td>\n",
       "      <td>0</td>\n",
       "      <td>0</td>\n",
       "    </tr>\n",
       "    <tr>\n",
       "      <th>2</th>\n",
       "      <td>1970</td>\n",
       "      <td>1970</td>\n",
       "      <td>4</td>\n",
       "      <td>3</td>\n",
       "      <td>15</td>\n",
       "      <td>0</td>\n",
       "      <td>OtherCountry</td>\n",
       "      <td>1</td>\n",
       "      <td>0</td>\n",
       "      <td>0</td>\n",
       "      <td>...</td>\n",
       "      <td>0</td>\n",
       "      <td>0</td>\n",
       "      <td>0</td>\n",
       "      <td>0</td>\n",
       "      <td>1</td>\n",
       "      <td>0</td>\n",
       "      <td>0</td>\n",
       "      <td>0</td>\n",
       "      <td>0</td>\n",
       "      <td>0</td>\n",
       "    </tr>\n",
       "    <tr>\n",
       "      <th>3</th>\n",
       "      <td>1970</td>\n",
       "      <td>1970</td>\n",
       "      <td>4</td>\n",
       "      <td>4</td>\n",
       "      <td>25</td>\n",
       "      <td>0</td>\n",
       "      <td>Turkey</td>\n",
       "      <td>1</td>\n",
       "      <td>0</td>\n",
       "      <td>0</td>\n",
       "      <td>...</td>\n",
       "      <td>0</td>\n",
       "      <td>0</td>\n",
       "      <td>0</td>\n",
       "      <td>0</td>\n",
       "      <td>1</td>\n",
       "      <td>0</td>\n",
       "      <td>0</td>\n",
       "      <td>0</td>\n",
       "      <td>0</td>\n",
       "      <td>0</td>\n",
       "    </tr>\n",
       "    <tr>\n",
       "      <th>4</th>\n",
       "      <td>1970</td>\n",
       "      <td>1970</td>\n",
       "      <td>6</td>\n",
       "      <td>1</td>\n",
       "      <td>7</td>\n",
       "      <td>1</td>\n",
       "      <td>OtherCountry</td>\n",
       "      <td>1</td>\n",
       "      <td>0</td>\n",
       "      <td>0</td>\n",
       "      <td>...</td>\n",
       "      <td>0</td>\n",
       "      <td>0</td>\n",
       "      <td>0</td>\n",
       "      <td>0</td>\n",
       "      <td>0</td>\n",
       "      <td>1</td>\n",
       "      <td>0</td>\n",
       "      <td>0</td>\n",
       "      <td>0</td>\n",
       "      <td>0</td>\n",
       "    </tr>\n",
       "  </tbody>\n",
       "</table>\n",
       "<p>5 rows × 83 columns</p>\n",
       "</div>"
      ],
      "text/plain": [
       "   Decade  Year  Month  Week  Day  Extended       Country  Success  Multiple  \\\n",
       "0    1970  1970      3     2   14         0         Egypt        1         0   \n",
       "1    1970  1970      3     4   29         0       Lebanon        1         0   \n",
       "2    1970  1970      4     3   15         0  OtherCountry        1         0   \n",
       "3    1970  1970      4     4   25         0        Turkey        1         0   \n",
       "4    1970  1970      6     1    7         1  OtherCountry        1         0   \n",
       "\n",
       "   Suicide  ... ArmedAssault Infrastructure Assassination UnknownAttack  \\\n",
       "0        0  ...            0              0             0             0   \n",
       "1        0  ...            0              0             0             0   \n",
       "2        0  ...            0              0             0             0   \n",
       "3        0  ...            0              0             0             0   \n",
       "4        0  ...            0              0             0             0   \n",
       "\n",
       "  Explosives UnknownWeapon  Firearms  Incendiary  Melee  OtherWeapon  \n",
       "0          1             0         0           0      0            0  \n",
       "1          1             0         0           0      0            0  \n",
       "2          1             0         0           0      0            0  \n",
       "3          1             0         0           0      0            0  \n",
       "4          0             1         0           0      0            0  \n",
       "\n",
       "[5 rows x 83 columns]"
      ]
     },
     "execution_count": 168,
     "metadata": {},
     "output_type": "execute_result"
    }
   ],
   "source": [
    "csv_df = pd.read_csv('C:/ME Lethal Prediction/ME_FNL1.csv')\n",
    "csv_df.head()"
   ]
  },
  {
   "cell_type": "markdown",
   "id": "e0118562",
   "metadata": {},
   "source": [
    "## Exploratory Data Analysis"
   ]
  },
  {
   "cell_type": "markdown",
   "id": "ca6c9995",
   "metadata": {},
   "source": [
    "Now, I will explore the data to gain insights about the data."
   ]
  },
  {
   "cell_type": "code",
   "execution_count": 169,
   "id": "6aae401f",
   "metadata": {},
   "outputs": [
    {
     "data": {
      "text/plain": [
       "(35766, 83)"
      ]
     },
     "execution_count": 169,
     "metadata": {},
     "output_type": "execute_result"
    }
   ],
   "source": [
    "# view dimensions of dataset\n",
    "\n",
    "csv_df.shape"
   ]
  },
  {
   "cell_type": "markdown",
   "id": "7815a500",
   "metadata": {},
   "source": [
    "### View top 5 rows of dataset"
   ]
  },
  {
   "cell_type": "code",
   "execution_count": 170,
   "id": "6ce02ce2",
   "metadata": {},
   "outputs": [
    {
     "data": {
      "text/html": [
       "<div>\n",
       "<style scoped>\n",
       "    .dataframe tbody tr th:only-of-type {\n",
       "        vertical-align: middle;\n",
       "    }\n",
       "\n",
       "    .dataframe tbody tr th {\n",
       "        vertical-align: top;\n",
       "    }\n",
       "\n",
       "    .dataframe thead th {\n",
       "        text-align: right;\n",
       "    }\n",
       "</style>\n",
       "<table border=\"1\" class=\"dataframe\">\n",
       "  <thead>\n",
       "    <tr style=\"text-align: right;\">\n",
       "      <th></th>\n",
       "      <th>Decade</th>\n",
       "      <th>Year</th>\n",
       "      <th>Month</th>\n",
       "      <th>Week</th>\n",
       "      <th>Day</th>\n",
       "      <th>Extended</th>\n",
       "      <th>Country</th>\n",
       "      <th>Success</th>\n",
       "      <th>Multiple</th>\n",
       "      <th>Suicide</th>\n",
       "      <th>...</th>\n",
       "      <th>ArmedAssault</th>\n",
       "      <th>Infrastructure</th>\n",
       "      <th>Assassination</th>\n",
       "      <th>UnknownAttack</th>\n",
       "      <th>Explosives</th>\n",
       "      <th>UnknownWeapon</th>\n",
       "      <th>Firearms</th>\n",
       "      <th>Incendiary</th>\n",
       "      <th>Melee</th>\n",
       "      <th>OtherWeapon</th>\n",
       "    </tr>\n",
       "  </thead>\n",
       "  <tbody>\n",
       "    <tr>\n",
       "      <th>0</th>\n",
       "      <td>1970</td>\n",
       "      <td>1970</td>\n",
       "      <td>3</td>\n",
       "      <td>2</td>\n",
       "      <td>14</td>\n",
       "      <td>0</td>\n",
       "      <td>Egypt</td>\n",
       "      <td>1</td>\n",
       "      <td>0</td>\n",
       "      <td>0</td>\n",
       "      <td>...</td>\n",
       "      <td>0</td>\n",
       "      <td>0</td>\n",
       "      <td>0</td>\n",
       "      <td>0</td>\n",
       "      <td>1</td>\n",
       "      <td>0</td>\n",
       "      <td>0</td>\n",
       "      <td>0</td>\n",
       "      <td>0</td>\n",
       "      <td>0</td>\n",
       "    </tr>\n",
       "    <tr>\n",
       "      <th>1</th>\n",
       "      <td>1970</td>\n",
       "      <td>1970</td>\n",
       "      <td>3</td>\n",
       "      <td>4</td>\n",
       "      <td>29</td>\n",
       "      <td>0</td>\n",
       "      <td>Lebanon</td>\n",
       "      <td>1</td>\n",
       "      <td>0</td>\n",
       "      <td>0</td>\n",
       "      <td>...</td>\n",
       "      <td>0</td>\n",
       "      <td>0</td>\n",
       "      <td>0</td>\n",
       "      <td>0</td>\n",
       "      <td>1</td>\n",
       "      <td>0</td>\n",
       "      <td>0</td>\n",
       "      <td>0</td>\n",
       "      <td>0</td>\n",
       "      <td>0</td>\n",
       "    </tr>\n",
       "    <tr>\n",
       "      <th>2</th>\n",
       "      <td>1970</td>\n",
       "      <td>1970</td>\n",
       "      <td>4</td>\n",
       "      <td>3</td>\n",
       "      <td>15</td>\n",
       "      <td>0</td>\n",
       "      <td>OtherCountry</td>\n",
       "      <td>1</td>\n",
       "      <td>0</td>\n",
       "      <td>0</td>\n",
       "      <td>...</td>\n",
       "      <td>0</td>\n",
       "      <td>0</td>\n",
       "      <td>0</td>\n",
       "      <td>0</td>\n",
       "      <td>1</td>\n",
       "      <td>0</td>\n",
       "      <td>0</td>\n",
       "      <td>0</td>\n",
       "      <td>0</td>\n",
       "      <td>0</td>\n",
       "    </tr>\n",
       "    <tr>\n",
       "      <th>3</th>\n",
       "      <td>1970</td>\n",
       "      <td>1970</td>\n",
       "      <td>4</td>\n",
       "      <td>4</td>\n",
       "      <td>25</td>\n",
       "      <td>0</td>\n",
       "      <td>Turkey</td>\n",
       "      <td>1</td>\n",
       "      <td>0</td>\n",
       "      <td>0</td>\n",
       "      <td>...</td>\n",
       "      <td>0</td>\n",
       "      <td>0</td>\n",
       "      <td>0</td>\n",
       "      <td>0</td>\n",
       "      <td>1</td>\n",
       "      <td>0</td>\n",
       "      <td>0</td>\n",
       "      <td>0</td>\n",
       "      <td>0</td>\n",
       "      <td>0</td>\n",
       "    </tr>\n",
       "    <tr>\n",
       "      <th>4</th>\n",
       "      <td>1970</td>\n",
       "      <td>1970</td>\n",
       "      <td>6</td>\n",
       "      <td>1</td>\n",
       "      <td>7</td>\n",
       "      <td>1</td>\n",
       "      <td>OtherCountry</td>\n",
       "      <td>1</td>\n",
       "      <td>0</td>\n",
       "      <td>0</td>\n",
       "      <td>...</td>\n",
       "      <td>0</td>\n",
       "      <td>0</td>\n",
       "      <td>0</td>\n",
       "      <td>0</td>\n",
       "      <td>0</td>\n",
       "      <td>1</td>\n",
       "      <td>0</td>\n",
       "      <td>0</td>\n",
       "      <td>0</td>\n",
       "      <td>0</td>\n",
       "    </tr>\n",
       "  </tbody>\n",
       "</table>\n",
       "<p>5 rows × 83 columns</p>\n",
       "</div>"
      ],
      "text/plain": [
       "   Decade  Year  Month  Week  Day  Extended       Country  Success  Multiple  \\\n",
       "0    1970  1970      3     2   14         0         Egypt        1         0   \n",
       "1    1970  1970      3     4   29         0       Lebanon        1         0   \n",
       "2    1970  1970      4     3   15         0  OtherCountry        1         0   \n",
       "3    1970  1970      4     4   25         0        Turkey        1         0   \n",
       "4    1970  1970      6     1    7         1  OtherCountry        1         0   \n",
       "\n",
       "   Suicide  ... ArmedAssault Infrastructure Assassination UnknownAttack  \\\n",
       "0        0  ...            0              0             0             0   \n",
       "1        0  ...            0              0             0             0   \n",
       "2        0  ...            0              0             0             0   \n",
       "3        0  ...            0              0             0             0   \n",
       "4        0  ...            0              0             0             0   \n",
       "\n",
       "  Explosives UnknownWeapon  Firearms  Incendiary  Melee  OtherWeapon  \n",
       "0          1             0         0           0      0            0  \n",
       "1          1             0         0           0      0            0  \n",
       "2          1             0         0           0      0            0  \n",
       "3          1             0         0           0      0            0  \n",
       "4          0             1         0           0      0            0  \n",
       "\n",
       "[5 rows x 83 columns]"
      ]
     },
     "execution_count": 170,
     "metadata": {},
     "output_type": "execute_result"
    }
   ],
   "source": [
    "# preview the dataset\n",
    "\n",
    "csv_df.head()"
   ]
  },
  {
   "cell_type": "markdown",
   "id": "3dcb17b8",
   "metadata": {},
   "source": [
    "### View summary of dataset"
   ]
  },
  {
   "cell_type": "code",
   "execution_count": 171,
   "id": "0d176472",
   "metadata": {},
   "outputs": [
    {
     "name": "stdout",
     "output_type": "stream",
     "text": [
      "<class 'pandas.core.frame.DataFrame'>\n",
      "RangeIndex: 35766 entries, 0 to 35765\n",
      "Data columns (total 83 columns):\n",
      " #   Column                  Non-Null Count  Dtype \n",
      "---  ------                  --------------  ----- \n",
      " 0   Decade                  35766 non-null  int64 \n",
      " 1   Year                    35766 non-null  int64 \n",
      " 2   Month                   35766 non-null  int64 \n",
      " 3   Week                    35766 non-null  int64 \n",
      " 4   Day                     35766 non-null  int64 \n",
      " 5   Extended                35766 non-null  int64 \n",
      " 6   Country                 35766 non-null  object\n",
      " 7   Success                 35766 non-null  int64 \n",
      " 8   Multiple                35766 non-null  int64 \n",
      " 9   Suicide                 35766 non-null  int64 \n",
      " 10  Attack                  35766 non-null  object\n",
      " 11  Weapon                  35766 non-null  object\n",
      " 12  Province                35766 non-null  object\n",
      " 13  City                    35766 non-null  object\n",
      " 14  Group                   35766 non-null  object\n",
      " 15  Target                  35766 non-null  object\n",
      " 16  Lethal                  35766 non-null  int64 \n",
      " 17  Decade1970              35766 non-null  int64 \n",
      " 18  Decade1980              35766 non-null  int64 \n",
      " 19  Decade1990              35766 non-null  int64 \n",
      " 20  Decade2000              35766 non-null  int64 \n",
      " 21  Decade2010              35766 non-null  int64 \n",
      " 22  Egypt                   35766 non-null  int64 \n",
      " 23  Lebanon                 35766 non-null  int64 \n",
      " 24  OtherCountry            35766 non-null  int64 \n",
      " 25  Turkey                  35766 non-null  int64 \n",
      " 26  Israel                  35766 non-null  int64 \n",
      " 27  Algeria                 35766 non-null  int64 \n",
      " 28  Syria                   35766 non-null  int64 \n",
      " 29  WestBankGazaStrip       35766 non-null  int64 \n",
      " 30  Iraq                    35766 non-null  int64 \n",
      " 31  Libya                   35766 non-null  int64 \n",
      " 32  Yemen                   35766 non-null  int64 \n",
      " 33  OtherProvince           35766 non-null  int64 \n",
      " 34  BeirutProvince          35766 non-null  int64 \n",
      " 35  IstanbulProvince        35766 non-null  int64 \n",
      " 36  AleppoProvince          35766 non-null  int64 \n",
      " 37  WestBankProvince        35766 non-null  int64 \n",
      " 38  BaghdadProvince         35766 non-null  int64 \n",
      " 39  SouthernProvince        35766 non-null  int64 \n",
      " 40  BenghaziProvince        35766 non-null  int64 \n",
      " 41  NinevehProvince         35766 non-null  int64 \n",
      " 42  SaladinProvince         35766 non-null  int64 \n",
      " 43  AlAnbarProvince         35766 non-null  int64 \n",
      " 44  DiyalaProvince          35766 non-null  int64 \n",
      " 45  KirkukProvince          35766 non-null  int64 \n",
      " 46  BabilProvince           35766 non-null  int64 \n",
      " 47  NorthSinaiProvince      35766 non-null  int64 \n",
      " 48  OtherCity               35766 non-null  int64 \n",
      " 49  BeirutCity              35766 non-null  int64 \n",
      " 50  IstanbulCity            35766 non-null  int64 \n",
      " 51  BaghdadCity             35766 non-null  int64 \n",
      " 52  KirkukCity              35766 non-null  int64 \n",
      " 53  BenghaziCity            35766 non-null  int64 \n",
      " 54  MosulCity               35766 non-null  int64 \n",
      " 55  BaqubahCity             35766 non-null  int64 \n",
      " 56  OtherTarget             35766 non-null  int64 \n",
      " 57  GovernmentDiplomatic    35766 non-null  int64 \n",
      " 58  Business                35766 non-null  int64 \n",
      " 59  Police                  35766 non-null  int64 \n",
      " 60  Military                35766 non-null  int64 \n",
      " 61  GovernmentGeneral       35766 non-null  int64 \n",
      " 62  Private                 35766 non-null  int64 \n",
      " 63  EducationalInstitution  35766 non-null  int64 \n",
      " 64  JournalistsMedia        35766 non-null  int64 \n",
      " 65  Utilities               35766 non-null  int64 \n",
      " 66  ReligiousInstitute      35766 non-null  int64 \n",
      " 67  TerroristsTarget        35766 non-null  int64 \n",
      " 68  UnknownTarget           35766 non-null  int64 \n",
      " 69  Transportation          35766 non-null  int64 \n",
      " 70  Bomb                    35766 non-null  int64 \n",
      " 71  HostageKidnap           35766 non-null  int64 \n",
      " 72  OtherAttack             35766 non-null  int64 \n",
      " 73  ArmedAssault            35766 non-null  int64 \n",
      " 74  Infrastructure          35766 non-null  int64 \n",
      " 75  Assassination           35766 non-null  int64 \n",
      " 76  UnknownAttack           35766 non-null  int64 \n",
      " 77  Explosives              35766 non-null  int64 \n",
      " 78  UnknownWeapon           35766 non-null  int64 \n",
      " 79  Firearms                35766 non-null  int64 \n",
      " 80  Incendiary              35766 non-null  int64 \n",
      " 81  Melee                   35766 non-null  int64 \n",
      " 82  OtherWeapon             35766 non-null  int64 \n",
      "dtypes: int64(76), object(7)\n",
      "memory usage: 22.6+ MB\n"
     ]
    }
   ],
   "source": [
    "# view summary of dataset\n",
    "\n",
    "csv_df.info()"
   ]
  },
  {
   "cell_type": "markdown",
   "id": "550c3e43",
   "metadata": {},
   "source": [
    "We can see that there are no missing values in the dataset."
   ]
  },
  {
   "cell_type": "markdown",
   "id": "15028e65",
   "metadata": {},
   "source": [
    "### Types of variables"
   ]
  },
  {
   "cell_type": "markdown",
   "id": "68fc1295",
   "metadata": {},
   "source": [
    "In this section, I segregate the dataset into categorical and numerical variables. There are a mixture of categorical and numerical variables in the dataset. Categorical variables have data type object. Numerical variables have data type int64.\n",
    "\n",
    "First of all, I will explore categorical variables."
   ]
  },
  {
   "cell_type": "markdown",
   "id": "b335977d",
   "metadata": {},
   "source": [
    "### Explore Categorical Variables"
   ]
  },
  {
   "cell_type": "code",
   "execution_count": 172,
   "id": "83f31340",
   "metadata": {},
   "outputs": [
    {
     "name": "stdout",
     "output_type": "stream",
     "text": [
      "There are 7 categorical variables\n",
      "\n",
      "The categorical variables are :\n",
      "\n",
      " ['Country', 'Attack', 'Weapon', 'Province', 'City', 'Group', 'Target']\n"
     ]
    }
   ],
   "source": [
    "# find categorical variables\n",
    "\n",
    "categorical = [var for var in csv_df.columns if csv_df[var].dtype == 'O']\n",
    "\n",
    "print('There are {} categorical variables\\n'.format(len(categorical)))\n",
    "\n",
    "print('The categorical variables are :\\n\\n', categorical)"
   ]
  },
  {
   "cell_type": "code",
   "execution_count": 173,
   "id": "3ad53f15",
   "metadata": {},
   "outputs": [
    {
     "data": {
      "text/html": [
       "<div>\n",
       "<style scoped>\n",
       "    .dataframe tbody tr th:only-of-type {\n",
       "        vertical-align: middle;\n",
       "    }\n",
       "\n",
       "    .dataframe tbody tr th {\n",
       "        vertical-align: top;\n",
       "    }\n",
       "\n",
       "    .dataframe thead th {\n",
       "        text-align: right;\n",
       "    }\n",
       "</style>\n",
       "<table border=\"1\" class=\"dataframe\">\n",
       "  <thead>\n",
       "    <tr style=\"text-align: right;\">\n",
       "      <th></th>\n",
       "      <th>Country</th>\n",
       "      <th>Attack</th>\n",
       "      <th>Weapon</th>\n",
       "      <th>Province</th>\n",
       "      <th>City</th>\n",
       "      <th>Group</th>\n",
       "      <th>Target</th>\n",
       "    </tr>\n",
       "  </thead>\n",
       "  <tbody>\n",
       "    <tr>\n",
       "      <th>0</th>\n",
       "      <td>Egypt</td>\n",
       "      <td>Bomb</td>\n",
       "      <td>Explosives</td>\n",
       "      <td>OtherProvince</td>\n",
       "      <td>OtherCity</td>\n",
       "      <td>Unknown</td>\n",
       "      <td>OtherTarget</td>\n",
       "    </tr>\n",
       "    <tr>\n",
       "      <th>1</th>\n",
       "      <td>Lebanon</td>\n",
       "      <td>Bomb</td>\n",
       "      <td>Explosives</td>\n",
       "      <td>Beirut</td>\n",
       "      <td>Beirut</td>\n",
       "      <td>Popular Front for the Liberation of Palestine ...</td>\n",
       "      <td>GovernmentDiplomatic</td>\n",
       "    </tr>\n",
       "    <tr>\n",
       "      <th>2</th>\n",
       "      <td>OtherCountry</td>\n",
       "      <td>Bomb</td>\n",
       "      <td>Explosives</td>\n",
       "      <td>OtherProvince</td>\n",
       "      <td>OtherCity</td>\n",
       "      <td>Popular Front for the Liberation of Palestine ...</td>\n",
       "      <td>GovernmentDiplomatic</td>\n",
       "    </tr>\n",
       "    <tr>\n",
       "      <th>3</th>\n",
       "      <td>Turkey</td>\n",
       "      <td>Bomb</td>\n",
       "      <td>Explosives</td>\n",
       "      <td>Istanbul</td>\n",
       "      <td>Istanbul</td>\n",
       "      <td>Palestinians</td>\n",
       "      <td>OtherTarget</td>\n",
       "    </tr>\n",
       "    <tr>\n",
       "      <th>4</th>\n",
       "      <td>OtherCountry</td>\n",
       "      <td>HostageKidnap</td>\n",
       "      <td>UnknownWeapon</td>\n",
       "      <td>OtherProvince</td>\n",
       "      <td>OtherCity</td>\n",
       "      <td>Popular Front for the Liberation of Palestine ...</td>\n",
       "      <td>GovernmentDiplomatic</td>\n",
       "    </tr>\n",
       "  </tbody>\n",
       "</table>\n",
       "</div>"
      ],
      "text/plain": [
       "        Country         Attack         Weapon       Province       City  \\\n",
       "0         Egypt           Bomb     Explosives  OtherProvince  OtherCity   \n",
       "1       Lebanon           Bomb     Explosives         Beirut     Beirut   \n",
       "2  OtherCountry           Bomb     Explosives  OtherProvince  OtherCity   \n",
       "3        Turkey           Bomb     Explosives       Istanbul   Istanbul   \n",
       "4  OtherCountry  HostageKidnap  UnknownWeapon  OtherProvince  OtherCity   \n",
       "\n",
       "                                               Group                Target  \n",
       "0                                            Unknown           OtherTarget  \n",
       "1  Popular Front for the Liberation of Palestine ...  GovernmentDiplomatic  \n",
       "2  Popular Front for the Liberation of Palestine ...  GovernmentDiplomatic  \n",
       "3                                       Palestinians           OtherTarget  \n",
       "4  Popular Front for the Liberation of Palestine ...  GovernmentDiplomatic  "
      ]
     },
     "execution_count": 173,
     "metadata": {},
     "output_type": "execute_result"
    }
   ],
   "source": [
    "# view the categorical variables\n",
    "\n",
    "csv_df[categorical].head()"
   ]
  },
  {
   "cell_type": "markdown",
   "id": "81a14450",
   "metadata": {},
   "source": [
    "Explore problems within categorical variables /\n",
    "First, I will explore the categorical variables."
   ]
  },
  {
   "cell_type": "markdown",
   "id": "8e2430cd",
   "metadata": {},
   "source": [
    "### Missing values in categorical variables"
   ]
  },
  {
   "cell_type": "code",
   "execution_count": 174,
   "id": "75b15f3c",
   "metadata": {},
   "outputs": [
    {
     "data": {
      "text/plain": [
       "Country     0\n",
       "Attack      0\n",
       "Weapon      0\n",
       "Province    0\n",
       "City        0\n",
       "Group       0\n",
       "Target      0\n",
       "dtype: int64"
      ]
     },
     "execution_count": 174,
     "metadata": {},
     "output_type": "execute_result"
    }
   ],
   "source": [
    "# check missing values in categorical variables\n",
    "\n",
    "csv_df[categorical].isnull().sum()"
   ]
  },
  {
   "cell_type": "markdown",
   "id": "c136e124",
   "metadata": {},
   "source": [
    "We can see that there are no missing values in the categorical variables."
   ]
  },
  {
   "cell_type": "markdown",
   "id": "ca95557a",
   "metadata": {},
   "source": [
    "Frequency counts of categorical variables\n",
    "Now, I will check the frequency counts of categorical variables."
   ]
  },
  {
   "cell_type": "code",
   "execution_count": 175,
   "id": "be74c671",
   "metadata": {},
   "outputs": [
    {
     "name": "stdout",
     "output_type": "stream",
     "text": [
      "Iraq                        20310\n",
      "Turkey                       2199\n",
      "Yemen                        1769\n",
      "Libya                        1749\n",
      "Egypt                        1651\n",
      "Syria                        1599\n",
      "Algeria                      1541\n",
      "West Bank and Gaza Strip     1347\n",
      "Lebanon                      1275\n",
      "Israel                       1263\n",
      "OtherCountry                 1063\n",
      "Name: Country, dtype: int64\n",
      "Bomb              23889\n",
      "ArmedAssault       5408\n",
      "Assassination      2953\n",
      "HostageKidnap      1757\n",
      "UnknownAttack       788\n",
      "Infrastructure      743\n",
      "OtherAttack         228\n",
      "Name: Attack, dtype: int64\n",
      "Explosives       24874\n",
      "Firearms          7591\n",
      "UnknownWeapon     1917\n",
      "Incendiary         670\n",
      "Melee              595\n",
      "OtherWeapon        119\n",
      "Name: Weapon, dtype: int64\n",
      "OtherProvince    11646\n",
      "Baghdad           7409\n",
      "Diyala            2527\n",
      "Nineveh           2515\n",
      "Al Anbar          2409\n",
      "Saladin           2372\n",
      "Kirkuk            1260\n",
      "West Bank          942\n",
      "Babil              908\n",
      "North Sinai        773\n",
      "Istanbul           738\n",
      "Benghazi           621\n",
      "Aleppo             566\n",
      "Beirut             564\n",
      "Southern           516\n",
      "Name: Province, dtype: int64\n",
      "OtherCity    23097\n",
      "Baghdad       7351\n",
      "Mosul         1911\n",
      "Kirkuk         854\n",
      "Istanbul       732\n",
      "Baqubah        679\n",
      "Benghazi       591\n",
      "Beirut         551\n",
      "Name: City, dtype: int64\n",
      "Unknown                                        22368\n",
      "Islamic State of Iraq and the Levant (ISIL)     3950\n",
      "Kurdistan Workers' Party (PKK)                   947\n",
      "Houthi extremists (Ansar Allah)                  688\n",
      "Al-Qaida in Iraq                                 551\n",
      "                                               ...  \n",
      "Iraqi Revolutionary Forces                         1\n",
      "Armed Islamic Movement                             1\n",
      "Boz-Ok (Grey Arrow)                                1\n",
      "Faqra Tribal Group                                 1\n",
      "Wrath of Olives                                    1\n",
      "Name: Group, Length: 595, dtype: int64\n",
      "Private                   13058\n",
      "Police                     5729\n",
      "GovernmentGeneral          3800\n",
      "Business                   3344\n",
      "UnknownTarget              1731\n",
      "Military                   1473\n",
      "ReligiousInstitute         1172\n",
      "Terrorists                 1165\n",
      "Transportation              960\n",
      "OtherTarget                 872\n",
      "GovernmentDiplomatic        678\n",
      "EducationalInstitution      671\n",
      "JournalistsMedia            574\n",
      "Utilities                   539\n",
      "Name: Target, dtype: int64\n"
     ]
    }
   ],
   "source": [
    "# view frequency counts of values in categorical variables\n",
    "\n",
    "for var in categorical: \n",
    "    \n",
    "    print(csv_df[var].value_counts())"
   ]
  },
  {
   "cell_type": "markdown",
   "id": "22590929",
   "metadata": {},
   "source": [
    "### View frequency distribution of categorical variables"
   ]
  },
  {
   "cell_type": "code",
   "execution_count": 176,
   "id": "b2f730c7",
   "metadata": {},
   "outputs": [
    {
     "name": "stdout",
     "output_type": "stream",
     "text": [
      "Iraq                        0.567858\n",
      "Turkey                      0.061483\n",
      "Yemen                       0.049460\n",
      "Libya                       0.048901\n",
      "Egypt                       0.046161\n",
      "Syria                       0.044707\n",
      "Algeria                     0.043086\n",
      "West Bank and Gaza Strip    0.037661\n",
      "Lebanon                     0.035648\n",
      "Israel                      0.035313\n",
      "OtherCountry                0.029721\n",
      "Name: Country, dtype: float64\n",
      "Bomb              0.667925\n",
      "ArmedAssault      0.151205\n",
      "Assassination     0.082564\n",
      "HostageKidnap     0.049125\n",
      "UnknownAttack     0.022032\n",
      "Infrastructure    0.020774\n",
      "OtherAttack       0.006375\n",
      "Name: Attack, dtype: float64\n",
      "Explosives       0.695465\n",
      "Firearms         0.212241\n",
      "UnknownWeapon    0.053598\n",
      "Incendiary       0.018733\n",
      "Melee            0.016636\n",
      "OtherWeapon      0.003327\n",
      "Name: Weapon, dtype: float64\n",
      "OtherProvince    0.325617\n",
      "Baghdad          0.207152\n",
      "Diyala           0.070654\n",
      "Nineveh          0.070318\n",
      "Al Anbar         0.067354\n",
      "Saladin          0.066320\n",
      "Kirkuk           0.035229\n",
      "West Bank        0.026338\n",
      "Babil            0.025387\n",
      "North Sinai      0.021613\n",
      "Istanbul         0.020634\n",
      "Benghazi         0.017363\n",
      "Aleppo           0.015825\n",
      "Beirut           0.015769\n",
      "Southern         0.014427\n",
      "Name: Province, dtype: float64\n",
      "OtherCity    0.645781\n",
      "Baghdad      0.205530\n",
      "Mosul        0.053431\n",
      "Kirkuk       0.023877\n",
      "Istanbul     0.020466\n",
      "Baqubah      0.018985\n",
      "Benghazi     0.016524\n",
      "Beirut       0.015406\n",
      "Name: City, dtype: float64\n",
      "Unknown                                        0.625398\n",
      "Islamic State of Iraq and the Levant (ISIL)    0.110440\n",
      "Kurdistan Workers' Party (PKK)                 0.026478\n",
      "Houthi extremists (Ansar Allah)                0.019236\n",
      "Al-Qaida in Iraq                               0.015406\n",
      "                                                 ...   \n",
      "Iraqi Revolutionary Forces                     0.000028\n",
      "Armed Islamic Movement                         0.000028\n",
      "Boz-Ok (Grey Arrow)                            0.000028\n",
      "Faqra Tribal Group                             0.000028\n",
      "Wrath of Olives                                0.000028\n",
      "Name: Group, Length: 595, dtype: float64\n",
      "Private                   0.365095\n",
      "Police                    0.160180\n",
      "GovernmentGeneral         0.106246\n",
      "Business                  0.093497\n",
      "UnknownTarget             0.048398\n",
      "Military                  0.041184\n",
      "ReligiousInstitute        0.032769\n",
      "Terrorists                0.032573\n",
      "Transportation            0.026841\n",
      "OtherTarget               0.024381\n",
      "GovernmentDiplomatic      0.018957\n",
      "EducationalInstitution    0.018761\n",
      "JournalistsMedia          0.016049\n",
      "Utilities                 0.015070\n",
      "Name: Target, dtype: float64\n"
     ]
    },
    {
     "name": "stderr",
     "output_type": "stream",
     "text": [
      "C:\\Users\\Nicholas\\AppData\\Local\\Temp/ipykernel_14812/3240309505.py:3: DeprecationWarning: `np.float` is a deprecated alias for the builtin `float`. To silence this warning, use `float` by itself. Doing this will not modify any behavior and is safe. If you specifically wanted the numpy scalar type, use `np.float64` here.\n",
      "Deprecated in NumPy 1.20; for more details and guidance: https://numpy.org/devdocs/release/1.20.0-notes.html#deprecations\n",
      "  print(csv_df[var].value_counts()/np.float(len(csv_df)))\n"
     ]
    }
   ],
   "source": [
    "for var in categorical: \n",
    "    \n",
    "    print(csv_df[var].value_counts()/np.float(len(csv_df)))"
   ]
  },
  {
   "cell_type": "markdown",
   "id": "fc45429c",
   "metadata": {},
   "source": [
    "### Explore Lethal variable"
   ]
  },
  {
   "cell_type": "code",
   "execution_count": 177,
   "id": "f0e65bc0",
   "metadata": {},
   "outputs": [
    {
     "data": {
      "text/plain": [
       "array([0, 1], dtype=int64)"
      ]
     },
     "execution_count": 177,
     "metadata": {},
     "output_type": "execute_result"
    }
   ],
   "source": [
    "# check labels in workclass variable\n",
    "\n",
    "csv_df.Lethal.unique()"
   ]
  },
  {
   "cell_type": "code",
   "execution_count": 178,
   "id": "4ebdd5ec",
   "metadata": {},
   "outputs": [
    {
     "data": {
      "text/plain": [
       "1    20002\n",
       "0    15764\n",
       "Name: Lethal, dtype: int64"
      ]
     },
     "execution_count": 178,
     "metadata": {},
     "output_type": "execute_result"
    }
   ],
   "source": [
    "# check frequency distribution of values in Lethal variable\n",
    "\n",
    "csv_df.Lethal.value_counts()"
   ]
  },
  {
   "cell_type": "markdown",
   "id": "6d2ce177",
   "metadata": {},
   "source": [
    "### Explore Target variable"
   ]
  },
  {
   "cell_type": "code",
   "execution_count": 179,
   "id": "81316935",
   "metadata": {},
   "outputs": [
    {
     "data": {
      "text/plain": [
       "array(['OtherTarget', 'GovernmentDiplomatic', 'Business', 'Police',\n",
       "       'Military', 'GovernmentGeneral', 'Private',\n",
       "       'EducationalInstitution', 'JournalistsMedia', 'Utilities',\n",
       "       'ReligiousInstitute', 'Terrorists', 'UnknownTarget',\n",
       "       'Transportation'], dtype=object)"
      ]
     },
     "execution_count": 179,
     "metadata": {},
     "output_type": "execute_result"
    }
   ],
   "source": [
    "# check labels in occupation variable\n",
    "\n",
    "csv_df.Target.unique()"
   ]
  },
  {
   "cell_type": "code",
   "execution_count": 180,
   "id": "eade7c17",
   "metadata": {},
   "outputs": [
    {
     "data": {
      "text/plain": [
       "Private                   13058\n",
       "Police                     5729\n",
       "GovernmentGeneral          3800\n",
       "Business                   3344\n",
       "UnknownTarget              1731\n",
       "Military                   1473\n",
       "ReligiousInstitute         1172\n",
       "Terrorists                 1165\n",
       "Transportation              960\n",
       "OtherTarget                 872\n",
       "GovernmentDiplomatic        678\n",
       "EducationalInstitution      671\n",
       "JournalistsMedia            574\n",
       "Utilities                   539\n",
       "Name: Target, dtype: int64"
      ]
     },
     "execution_count": 180,
     "metadata": {},
     "output_type": "execute_result"
    }
   ],
   "source": [
    "# check frequency distribution of values in Target variable\n",
    "\n",
    "csv_df.Target.value_counts()"
   ]
  },
  {
   "cell_type": "markdown",
   "id": "d9e55f1b",
   "metadata": {},
   "source": [
    "### Number of labels: cardinality"
   ]
  },
  {
   "cell_type": "markdown",
   "id": "27ac1dfb",
   "metadata": {},
   "source": [
    "The number of labels within a categorical variable is known as cardinality. A high number of labels within a variable is known as high cardinality. High cardinality may pose some serious problems in the machine learning model. So, I will check for high cardinality."
   ]
  },
  {
   "cell_type": "code",
   "execution_count": 181,
   "id": "60f1f0aa",
   "metadata": {},
   "outputs": [
    {
     "name": "stdout",
     "output_type": "stream",
     "text": [
      "Country  contains  11  labels\n",
      "Attack  contains  7  labels\n",
      "Weapon  contains  6  labels\n",
      "Province  contains  15  labels\n",
      "City  contains  8  labels\n",
      "Group  contains  595  labels\n",
      "Target  contains  14  labels\n"
     ]
    }
   ],
   "source": [
    "# check for cardinality in categorical variables\n",
    "\n",
    "for var in categorical:\n",
    "    \n",
    "    print(var, ' contains ', len(csv_df [var].unique()), ' labels')\n",
    "# Group has very high cardinality, to it needs removing from any modelling or transforming to reduce its cardinality"
   ]
  },
  {
   "cell_type": "markdown",
   "id": "db381b04",
   "metadata": {},
   "source": [
    "### Explore Numerical Variables"
   ]
  },
  {
   "cell_type": "code",
   "execution_count": 182,
   "id": "ba9f28a8",
   "metadata": {},
   "outputs": [
    {
     "name": "stdout",
     "output_type": "stream",
     "text": [
      "There are 76 numerical variables\n",
      "\n",
      "The numerical variables are : ['Decade', 'Year', 'Month', 'Week', 'Day', 'Extended', 'Success', 'Multiple', 'Suicide', 'Lethal', 'Decade1970', 'Decade1980', 'Decade1990', 'Decade2000', 'Decade2010', 'Egypt', 'Lebanon', 'OtherCountry', 'Turkey', 'Israel', 'Algeria', 'Syria', 'WestBankGazaStrip', 'Iraq', 'Libya', 'Yemen', 'OtherProvince', 'BeirutProvince', 'IstanbulProvince', 'AleppoProvince', 'WestBankProvince', 'BaghdadProvince', 'SouthernProvince', 'BenghaziProvince', 'NinevehProvince', 'SaladinProvince', 'AlAnbarProvince', 'DiyalaProvince', 'KirkukProvince', 'BabilProvince', 'NorthSinaiProvince', 'OtherCity', 'BeirutCity', 'IstanbulCity', 'BaghdadCity', 'KirkukCity', 'BenghaziCity', 'MosulCity', 'BaqubahCity', 'OtherTarget', 'GovernmentDiplomatic', 'Business', 'Police', 'Military', 'GovernmentGeneral', 'Private', 'EducationalInstitution', 'JournalistsMedia', 'Utilities', 'ReligiousInstitute', 'TerroristsTarget', 'UnknownTarget', 'Transportation', 'Bomb', 'HostageKidnap', 'OtherAttack', 'ArmedAssault', 'Infrastructure', 'Assassination', 'UnknownAttack', 'Explosives', 'UnknownWeapon', 'Firearms', 'Incendiary', 'Melee', 'OtherWeapon']\n"
     ]
    }
   ],
   "source": [
    "# find numerical variables\n",
    "\n",
    "numerical = [var for var in csv_df.columns if csv_df[var].dtype!='O']\n",
    "\n",
    "print('There are {} numerical variables\\n'.format(len(numerical)))\n",
    "\n",
    "print('The numerical variables are :', numerical)"
   ]
  },
  {
   "cell_type": "code",
   "execution_count": 183,
   "id": "60c0acf5",
   "metadata": {},
   "outputs": [
    {
     "data": {
      "text/html": [
       "<div>\n",
       "<style scoped>\n",
       "    .dataframe tbody tr th:only-of-type {\n",
       "        vertical-align: middle;\n",
       "    }\n",
       "\n",
       "    .dataframe tbody tr th {\n",
       "        vertical-align: top;\n",
       "    }\n",
       "\n",
       "    .dataframe thead th {\n",
       "        text-align: right;\n",
       "    }\n",
       "</style>\n",
       "<table border=\"1\" class=\"dataframe\">\n",
       "  <thead>\n",
       "    <tr style=\"text-align: right;\">\n",
       "      <th></th>\n",
       "      <th>Decade</th>\n",
       "      <th>Year</th>\n",
       "      <th>Month</th>\n",
       "      <th>Week</th>\n",
       "      <th>Day</th>\n",
       "      <th>Extended</th>\n",
       "      <th>Success</th>\n",
       "      <th>Multiple</th>\n",
       "      <th>Suicide</th>\n",
       "      <th>Lethal</th>\n",
       "      <th>...</th>\n",
       "      <th>ArmedAssault</th>\n",
       "      <th>Infrastructure</th>\n",
       "      <th>Assassination</th>\n",
       "      <th>UnknownAttack</th>\n",
       "      <th>Explosives</th>\n",
       "      <th>UnknownWeapon</th>\n",
       "      <th>Firearms</th>\n",
       "      <th>Incendiary</th>\n",
       "      <th>Melee</th>\n",
       "      <th>OtherWeapon</th>\n",
       "    </tr>\n",
       "  </thead>\n",
       "  <tbody>\n",
       "    <tr>\n",
       "      <th>0</th>\n",
       "      <td>1970</td>\n",
       "      <td>1970</td>\n",
       "      <td>3</td>\n",
       "      <td>2</td>\n",
       "      <td>14</td>\n",
       "      <td>0</td>\n",
       "      <td>1</td>\n",
       "      <td>0</td>\n",
       "      <td>0</td>\n",
       "      <td>0</td>\n",
       "      <td>...</td>\n",
       "      <td>0</td>\n",
       "      <td>0</td>\n",
       "      <td>0</td>\n",
       "      <td>0</td>\n",
       "      <td>1</td>\n",
       "      <td>0</td>\n",
       "      <td>0</td>\n",
       "      <td>0</td>\n",
       "      <td>0</td>\n",
       "      <td>0</td>\n",
       "    </tr>\n",
       "    <tr>\n",
       "      <th>1</th>\n",
       "      <td>1970</td>\n",
       "      <td>1970</td>\n",
       "      <td>3</td>\n",
       "      <td>4</td>\n",
       "      <td>29</td>\n",
       "      <td>0</td>\n",
       "      <td>1</td>\n",
       "      <td>0</td>\n",
       "      <td>0</td>\n",
       "      <td>0</td>\n",
       "      <td>...</td>\n",
       "      <td>0</td>\n",
       "      <td>0</td>\n",
       "      <td>0</td>\n",
       "      <td>0</td>\n",
       "      <td>1</td>\n",
       "      <td>0</td>\n",
       "      <td>0</td>\n",
       "      <td>0</td>\n",
       "      <td>0</td>\n",
       "      <td>0</td>\n",
       "    </tr>\n",
       "    <tr>\n",
       "      <th>2</th>\n",
       "      <td>1970</td>\n",
       "      <td>1970</td>\n",
       "      <td>4</td>\n",
       "      <td>3</td>\n",
       "      <td>15</td>\n",
       "      <td>0</td>\n",
       "      <td>1</td>\n",
       "      <td>0</td>\n",
       "      <td>0</td>\n",
       "      <td>0</td>\n",
       "      <td>...</td>\n",
       "      <td>0</td>\n",
       "      <td>0</td>\n",
       "      <td>0</td>\n",
       "      <td>0</td>\n",
       "      <td>1</td>\n",
       "      <td>0</td>\n",
       "      <td>0</td>\n",
       "      <td>0</td>\n",
       "      <td>0</td>\n",
       "      <td>0</td>\n",
       "    </tr>\n",
       "    <tr>\n",
       "      <th>3</th>\n",
       "      <td>1970</td>\n",
       "      <td>1970</td>\n",
       "      <td>4</td>\n",
       "      <td>4</td>\n",
       "      <td>25</td>\n",
       "      <td>0</td>\n",
       "      <td>1</td>\n",
       "      <td>0</td>\n",
       "      <td>0</td>\n",
       "      <td>0</td>\n",
       "      <td>...</td>\n",
       "      <td>0</td>\n",
       "      <td>0</td>\n",
       "      <td>0</td>\n",
       "      <td>0</td>\n",
       "      <td>1</td>\n",
       "      <td>0</td>\n",
       "      <td>0</td>\n",
       "      <td>0</td>\n",
       "      <td>0</td>\n",
       "      <td>0</td>\n",
       "    </tr>\n",
       "    <tr>\n",
       "      <th>4</th>\n",
       "      <td>1970</td>\n",
       "      <td>1970</td>\n",
       "      <td>6</td>\n",
       "      <td>1</td>\n",
       "      <td>7</td>\n",
       "      <td>1</td>\n",
       "      <td>1</td>\n",
       "      <td>0</td>\n",
       "      <td>0</td>\n",
       "      <td>0</td>\n",
       "      <td>...</td>\n",
       "      <td>0</td>\n",
       "      <td>0</td>\n",
       "      <td>0</td>\n",
       "      <td>0</td>\n",
       "      <td>0</td>\n",
       "      <td>1</td>\n",
       "      <td>0</td>\n",
       "      <td>0</td>\n",
       "      <td>0</td>\n",
       "      <td>0</td>\n",
       "    </tr>\n",
       "  </tbody>\n",
       "</table>\n",
       "<p>5 rows × 76 columns</p>\n",
       "</div>"
      ],
      "text/plain": [
       "   Decade  Year  Month  Week  Day  Extended  Success  Multiple  Suicide  \\\n",
       "0    1970  1970      3     2   14         0        1         0        0   \n",
       "1    1970  1970      3     4   29         0        1         0        0   \n",
       "2    1970  1970      4     3   15         0        1         0        0   \n",
       "3    1970  1970      4     4   25         0        1         0        0   \n",
       "4    1970  1970      6     1    7         1        1         0        0   \n",
       "\n",
       "   Lethal  ...  ArmedAssault  Infrastructure  Assassination  UnknownAttack  \\\n",
       "0       0  ...             0               0              0              0   \n",
       "1       0  ...             0               0              0              0   \n",
       "2       0  ...             0               0              0              0   \n",
       "3       0  ...             0               0              0              0   \n",
       "4       0  ...             0               0              0              0   \n",
       "\n",
       "   Explosives  UnknownWeapon  Firearms  Incendiary  Melee  OtherWeapon  \n",
       "0           1              0         0           0      0            0  \n",
       "1           1              0         0           0      0            0  \n",
       "2           1              0         0           0      0            0  \n",
       "3           1              0         0           0      0            0  \n",
       "4           0              1         0           0      0            0  \n",
       "\n",
       "[5 rows x 76 columns]"
      ]
     },
     "execution_count": 183,
     "metadata": {},
     "output_type": "execute_result"
    }
   ],
   "source": [
    "# view the numerical variables\n",
    "\n",
    "csv_df[numerical].head()"
   ]
  },
  {
   "cell_type": "markdown",
   "id": "c3589dbd",
   "metadata": {},
   "source": [
    "### Explore problems within numerical variables"
   ]
  },
  {
   "cell_type": "markdown",
   "id": "529152cb",
   "metadata": {},
   "source": [
    "Now, I will explore the numerical variables."
   ]
  },
  {
   "cell_type": "markdown",
   "id": "63ce239e",
   "metadata": {},
   "source": [
    "### Missing values in numerical variables"
   ]
  },
  {
   "cell_type": "code",
   "execution_count": 184,
   "id": "f688b73e",
   "metadata": {},
   "outputs": [
    {
     "data": {
      "text/plain": [
       "Decade           0\n",
       "Year             0\n",
       "Month            0\n",
       "Week             0\n",
       "Day              0\n",
       "                ..\n",
       "UnknownWeapon    0\n",
       "Firearms         0\n",
       "Incendiary       0\n",
       "Melee            0\n",
       "OtherWeapon      0\n",
       "Length: 76, dtype: int64"
      ]
     },
     "execution_count": 184,
     "metadata": {},
     "output_type": "execute_result"
    }
   ],
   "source": [
    "# check missing values in numerical variables\n",
    "\n",
    "csv_df[numerical].isnull().sum()"
   ]
  },
  {
   "cell_type": "markdown",
   "id": "4774b230",
   "metadata": {},
   "source": [
    "We can see that all the numerical variables do not contain missing values."
   ]
  },
  {
   "cell_type": "markdown",
   "id": "518c17e2",
   "metadata": {},
   "source": [
    "### Declare feature vector and target variable "
   ]
  },
  {
   "cell_type": "code",
   "execution_count": 185,
   "id": "b3d2335c",
   "metadata": {},
   "outputs": [
    {
     "data": {
      "text/plain": [
       "array(['Not Lethal', 'Lethal'], dtype=object)"
      ]
     },
     "execution_count": 185,
     "metadata": {},
     "output_type": "execute_result"
    }
   ],
   "source": [
    "# split X and Y into training and test sets\n",
    "from sklearn.model_selection import train_test_split\n",
    "# define x and y\n",
    "feature_cols = ['OtherProvince',\n",
    "       'BeirutProvince', 'IstanbulProvince', 'AleppoProvince',\n",
    "       'WestBankProvince', 'BaghdadProvince', 'SouthernProvince',\n",
    "       'BenghaziProvince', 'NinevehProvince', 'SaladinProvince',\n",
    "       'AlAnbarProvince', 'DiyalaProvince', 'KirkukProvince', 'BabilProvince',\n",
    "       'NorthSinaiProvince', 'OtherCity', 'BeirutCity', 'Bomb',\n",
    "       'HostageKidnap', 'OtherAttack', 'ArmedAssault', 'Infrastructure',\n",
    "       'Assassination']\n",
    "\n",
    "# Convert values in Lethal Column:\n",
    "\n",
    "csv_df['Lethal'] = csv_df['Lethal'].replace([0],'Not Lethal')\n",
    "csv_df['Lethal'] = csv_df['Lethal'].replace([1],'Lethal')\n",
    "\n",
    "# check labels in occupation variable\n",
    "\n",
    "csv_df.Lethal.unique()"
   ]
  },
  {
   "cell_type": "code",
   "execution_count": 186,
   "id": "d3e40499",
   "metadata": {},
   "outputs": [],
   "source": [
    "X = csv_df[feature_cols]\n",
    "Y = csv_df.Lethal"
   ]
  },
  {
   "cell_type": "markdown",
   "id": "fffbf795",
   "metadata": {},
   "source": [
    "### Split X and Y into training and test sets"
   ]
  },
  {
   "cell_type": "code",
   "execution_count": 187,
   "id": "27be63af",
   "metadata": {},
   "outputs": [],
   "source": [
    "X_train, X_test, Y_train, Y_test = train_test_split(X, Y, test_size = 0.25, stratify = Y, shuffle = True, random_state = 66)"
   ]
  },
  {
   "cell_type": "code",
   "execution_count": 188,
   "id": "b485d915",
   "metadata": {},
   "outputs": [
    {
     "data": {
      "text/plain": [
       "((26824, 23), (8942, 23))"
      ]
     },
     "execution_count": 188,
     "metadata": {},
     "output_type": "execute_result"
    }
   ],
   "source": [
    "# check the shape of X_train and X_test\n",
    "\n",
    "X_train.shape, X_test.shape"
   ]
  },
  {
   "cell_type": "markdown",
   "id": "9414b909",
   "metadata": {},
   "source": [
    "## Feature Engineering"
   ]
  },
  {
   "cell_type": "markdown",
   "id": "73dfaaee",
   "metadata": {},
   "source": [
    "Feature Engineering is the process of transforming raw data into useful features that help us to understand our model better and increase its predictive power. I will carry out feature engineering on different types of variables.\n",
    "\n",
    "First, I will display the categorical and numerical variables again separately."
   ]
  },
  {
   "cell_type": "code",
   "execution_count": 189,
   "id": "833cef09",
   "metadata": {},
   "outputs": [
    {
     "data": {
      "text/plain": [
       "OtherProvince         int64\n",
       "BeirutProvince        int64\n",
       "IstanbulProvince      int64\n",
       "AleppoProvince        int64\n",
       "WestBankProvince      int64\n",
       "BaghdadProvince       int64\n",
       "SouthernProvince      int64\n",
       "BenghaziProvince      int64\n",
       "NinevehProvince       int64\n",
       "SaladinProvince       int64\n",
       "AlAnbarProvince       int64\n",
       "DiyalaProvince        int64\n",
       "KirkukProvince        int64\n",
       "BabilProvince         int64\n",
       "NorthSinaiProvince    int64\n",
       "OtherCity             int64\n",
       "BeirutCity            int64\n",
       "Bomb                  int64\n",
       "HostageKidnap         int64\n",
       "OtherAttack           int64\n",
       "ArmedAssault          int64\n",
       "Infrastructure        int64\n",
       "Assassination         int64\n",
       "dtype: object"
      ]
     },
     "execution_count": 189,
     "metadata": {},
     "output_type": "execute_result"
    }
   ],
   "source": [
    "# check data types in X_train\n",
    "\n",
    "X_train.dtypes"
   ]
  },
  {
   "cell_type": "code",
   "execution_count": 190,
   "id": "4155f299",
   "metadata": {},
   "outputs": [
    {
     "data": {
      "text/plain": [
       "[]"
      ]
     },
     "execution_count": 190,
     "metadata": {},
     "output_type": "execute_result"
    }
   ],
   "source": [
    "# display categorical variables\n",
    "\n",
    "categorical = [col for col in X_train.columns if X_train[col].dtypes == 'O']\n",
    "\n",
    "categorical"
   ]
  },
  {
   "cell_type": "code",
   "execution_count": 191,
   "id": "04d5d980",
   "metadata": {},
   "outputs": [
    {
     "data": {
      "text/plain": [
       "['OtherProvince',\n",
       " 'BeirutProvince',\n",
       " 'IstanbulProvince',\n",
       " 'AleppoProvince',\n",
       " 'WestBankProvince',\n",
       " 'BaghdadProvince',\n",
       " 'SouthernProvince',\n",
       " 'BenghaziProvince',\n",
       " 'NinevehProvince',\n",
       " 'SaladinProvince',\n",
       " 'AlAnbarProvince',\n",
       " 'DiyalaProvince',\n",
       " 'KirkukProvince',\n",
       " 'BabilProvince',\n",
       " 'NorthSinaiProvince',\n",
       " 'OtherCity',\n",
       " 'BeirutCity',\n",
       " 'Bomb',\n",
       " 'HostageKidnap',\n",
       " 'OtherAttack',\n",
       " 'ArmedAssault',\n",
       " 'Infrastructure',\n",
       " 'Assassination']"
      ]
     },
     "execution_count": 191,
     "metadata": {},
     "output_type": "execute_result"
    }
   ],
   "source": [
    "# display numerical variables\n",
    "\n",
    "numerical = [col for col in X_train.columns if X_train[col].dtypes != 'O']\n",
    "\n",
    "numerical"
   ]
  },
  {
   "cell_type": "markdown",
   "id": "b9834c11",
   "metadata": {},
   "source": [
    "# Model training "
   ]
  },
  {
   "cell_type": "code",
   "execution_count": 192,
   "id": "ee06f587",
   "metadata": {},
   "outputs": [
    {
     "data": {
      "text/plain": [
       "CategoricalNB()"
      ]
     },
     "execution_count": 192,
     "metadata": {},
     "output_type": "execute_result"
    }
   ],
   "source": [
    "# train a Gaussian Naive Bayes classifier on the training set\n",
    "from sklearn.naive_bayes import GaussianNB, CategoricalNB\n",
    "\n",
    "# instantiate the model\n",
    "cnb = CategoricalNB()\n",
    "\n",
    "# fit the model\n",
    "cnb.fit(X_train, Y_train)"
   ]
  },
  {
   "cell_type": "markdown",
   "id": "84601e84",
   "metadata": {},
   "source": [
    "# Predict the results "
   ]
  },
  {
   "cell_type": "code",
   "execution_count": 193,
   "id": "c3a06bc6",
   "metadata": {},
   "outputs": [
    {
     "data": {
      "text/plain": [
       "array(['Lethal', 'Not Lethal', 'Lethal', ..., 'Lethal', 'Lethal',\n",
       "       'Lethal'], dtype='<U10')"
      ]
     },
     "execution_count": 193,
     "metadata": {},
     "output_type": "execute_result"
    }
   ],
   "source": [
    "y_pred = cnb.predict(X_test)\n",
    "\n",
    "y_pred"
   ]
  },
  {
   "cell_type": "markdown",
   "id": "0e1efee6",
   "metadata": {},
   "source": [
    "#  Check accuracy score"
   ]
  },
  {
   "cell_type": "code",
   "execution_count": 194,
   "id": "ba5db4e5",
   "metadata": {},
   "outputs": [
    {
     "name": "stdout",
     "output_type": "stream",
     "text": [
      "Model accuracy score: 0.6579\n"
     ]
    }
   ],
   "source": [
    "from sklearn.metrics import accuracy_score\n",
    "\n",
    "print('Model accuracy score: {0:0.4f}'. format(accuracy_score(Y_test, y_pred)))"
   ]
  },
  {
   "cell_type": "markdown",
   "id": "c62b331e",
   "metadata": {},
   "source": [
    "### Compare the train-set and test-set accuracy"
   ]
  },
  {
   "cell_type": "code",
   "execution_count": 195,
   "id": "96393f38",
   "metadata": {},
   "outputs": [
    {
     "data": {
      "text/plain": [
       "array(['Not Lethal', 'Not Lethal', 'Lethal', ..., 'Lethal', 'Not Lethal',\n",
       "       'Not Lethal'], dtype='<U10')"
      ]
     },
     "execution_count": 195,
     "metadata": {},
     "output_type": "execute_result"
    }
   ],
   "source": [
    "y_pred_train = cnb.predict(X_train)\n",
    "\n",
    "y_pred_train"
   ]
  },
  {
   "cell_type": "code",
   "execution_count": 196,
   "id": "e0640a91",
   "metadata": {},
   "outputs": [
    {
     "name": "stdout",
     "output_type": "stream",
     "text": [
      "Training-set accuracy score: 65.7173\n"
     ]
    }
   ],
   "source": [
    "print('Training-set accuracy score: {0:0.4f}'. format(accuracy_score(Y_train, y_pred_train)* 100))"
   ]
  },
  {
   "cell_type": "markdown",
   "id": "ca897998",
   "metadata": {},
   "source": [
    "### Check for overfitting and underfitting"
   ]
  },
  {
   "cell_type": "code",
   "execution_count": 197,
   "id": "1bde37e1",
   "metadata": {},
   "outputs": [
    {
     "name": "stdout",
     "output_type": "stream",
     "text": [
      "Training set score: 65.7173\n",
      "Test set score: 65.7907\n"
     ]
    }
   ],
   "source": [
    "# print the scores on training and test set\n",
    "\n",
    "print('Training set score: {:.4f}'.format(cnb.score(X_train, Y_train)* 100))\n",
    "\n",
    "print('Test set score: {:.4f}'.format(cnb.score(X_test, Y_test)* 100))"
   ]
  },
  {
   "cell_type": "markdown",
   "id": "e5c42d0e",
   "metadata": {},
   "source": [
    "The training-set accuracy score is 65.7173 while the test-set accuracy to be 65.7907. These two values are quite comparable. So, there is no sign of overfitting."
   ]
  },
  {
   "cell_type": "markdown",
   "id": "19e1b7e2",
   "metadata": {},
   "source": [
    "## Compare model accuracy with null accuracy"
   ]
  },
  {
   "cell_type": "markdown",
   "id": "d6a56c3b",
   "metadata": {},
   "source": [
    "So, the model accuracy is 65.7907. But, we cannot say that our model is very good based on the above accuracy. We must compare it with the null accuracy. Null accuracy is the accuracy that could be achieved by always predicting the most frequent class.\n",
    "\n",
    "So, we should first check the class distribution in the test set."
   ]
  },
  {
   "cell_type": "code",
   "execution_count": 198,
   "id": "f09df64a",
   "metadata": {},
   "outputs": [
    {
     "data": {
      "text/plain": [
       "Lethal        5001\n",
       "Not Lethal    3941\n",
       "Name: Lethal, dtype: int64"
      ]
     },
     "execution_count": 198,
     "metadata": {},
     "output_type": "execute_result"
    }
   ],
   "source": [
    "# check class distribution in test set\n",
    "\n",
    "Y_test.value_counts()"
   ]
  },
  {
   "cell_type": "markdown",
   "id": "a12c846e",
   "metadata": {},
   "source": [
    "We can see that the occurences of most frequent class is 5001. So, we can calculate null accuracy by dividing 5001 by total number of occurences."
   ]
  },
  {
   "cell_type": "code",
   "execution_count": 199,
   "id": "9053720a",
   "metadata": {},
   "outputs": [
    {
     "name": "stdout",
     "output_type": "stream",
     "text": [
      "Null accuracy score: 55.9271\n"
     ]
    }
   ],
   "source": [
    "# check null accuracy score\n",
    "\n",
    "null_accuracy = (5001 / (5001 + 3941))\n",
    "\n",
    "print('Null accuracy score: {0:0.4f}'. format(null_accuracy* 100))"
   ]
  },
  {
   "cell_type": "markdown",
   "id": "ff9629d5",
   "metadata": {},
   "source": [
    "We can see that our model accuracy score is 65.7907 but null accuracy score is 55.9271. So, we can conclude that our Categorical Naive Bayes Classification model is doing a very good job in predicting the class labels.\n",
    "\n",
    "Now, based on the above analysis we can conclude that our classification model accuracy is very good. Our model is doing a very good job in terms of predicting the class labels.\n",
    "\n",
    "But, it does not give the underlying distribution of values. Also, it does not tell anything about the type of errors our classifer is making.\n",
    "\n",
    "We have another tool called Confusion matrix that comes to our rescue."
   ]
  },
  {
   "cell_type": "markdown",
   "id": "cd352349",
   "metadata": {},
   "source": [
    "# Confusion Matrix"
   ]
  },
  {
   "cell_type": "markdown",
   "id": "86b2b654",
   "metadata": {},
   "source": [
    "A confusion matrix is a tool for summarizing the performance of a classification algorithm. A confusion matrix will give us a clear picture of classification model performance and the types of errors produced by the model. It gives us a summary of correct and incorrect predictions broken down by each category. The summary is represented in a tabular form.\n",
    "\n",
    "Four types of outcomes are possible while evaluating a classification model performance. These four outcomes are described below:-\n",
    "\n",
    "True Positives (TP) – True Positives occur when we predict an observation belongs to a certain class and the observation actually belongs to that class.\n",
    "\n",
    "True Negatives (TN) – True Negatives occur when we predict an observation does not belong to a certain class and the observation actually does not belong to that class.\n",
    "\n",
    "False Positives (FP) – False Positives occur when we predict an observation belongs to a certain class but the observation actually does not belong to that class. This type of error is called Type I error.\n",
    "\n",
    "False Negatives (FN) – False Negatives occur when we predict an observation does not belong to a certain class but the observation actually belongs to that class. This is a very serious error and it is called Type II error.\n",
    "\n",
    "These four outcomes are summarized in a confusion matrix given below."
   ]
  },
  {
   "cell_type": "code",
   "execution_count": 200,
   "id": "05581f7f",
   "metadata": {},
   "outputs": [
    {
     "name": "stdout",
     "output_type": "stream",
     "text": [
      "Confusion matrix\n",
      "\n",
      " [[3623 1378]\n",
      " [1681 2260]]\n",
      "\n",
      "True Positives(TP) =  3623\n",
      "\n",
      "True Negatives(TN) =  2260\n",
      "\n",
      "False Positives(FP) =  1378\n",
      "\n",
      "False Negatives(FN) =  1681\n"
     ]
    }
   ],
   "source": [
    "# Print the Confusion Matrix and slice it into four pieces\n",
    "\n",
    "from sklearn.metrics import confusion_matrix\n",
    "\n",
    "cm = confusion_matrix(Y_test, y_pred)\n",
    "\n",
    "print('Confusion matrix\\n\\n', cm)\n",
    "\n",
    "print('\\nTrue Positives(TP) = ', cm[0, 0])\n",
    "\n",
    "print('\\nTrue Negatives(TN) = ', cm[1, 1])\n",
    "\n",
    "print('\\nFalse Positives(FP) = ', cm[0, 1])\n",
    "\n",
    "print('\\nFalse Negatives(FN) = ', cm[1, 0])"
   ]
  },
  {
   "cell_type": "markdown",
   "id": "cc43b76c",
   "metadata": {},
   "source": [
    "The confusion matrix shows 1544 + 4369 = 5913 correct predictions and 2397 + 632 = 3029 incorrect predictions.\n",
    "\n",
    "In this case, we have\n",
    "\n",
    "True Positives (Actual Positive: 1 and Predict Positive: 1) - 1544\\\n",
    "True Negatives (Actual Negative: 0 and Predict Negative: 0) - 4369\\\n",
    "False Positives (Actual Negative: 0 but Predict Positive: 1) - 2397 (Type I error)\\\n",
    "False Negatives (Actual Positive: 1 but Predict Negative: 0) - 632 (Type II error)"
   ]
  },
  {
   "cell_type": "code",
   "execution_count": 201,
   "id": "b96c4da2",
   "metadata": {},
   "outputs": [
    {
     "data": {
      "text/plain": [
       "<AxesSubplot:>"
      ]
     },
     "execution_count": 201,
     "metadata": {},
     "output_type": "execute_result"
    },
    {
     "data": {
      "image/png": "[encoded data removed]",
      "text/plain": [
       "<Figure size 432x288 with 2 Axes>"
      ]
     },
     "metadata": {
      "needs_background": "light"
     },
     "output_type": "display_data"
    }
   ],
   "source": [
    "# visualize confusion matrix with seaborn heatmap\n",
    "\n",
    "cm_matrix = pd.DataFrame(data = cm, columns = ['Actual Positive: 1', 'Actual Negative: 0'], \n",
    "                                 index = ['Predict Positive: 1', 'Predict Negative: 0'])\n",
    "\n",
    "sns.heatmap(cm_matrix, annot = True, fmt = 'd', cmap = 'YlGnBu')"
   ]
  },
  {
   "cell_type": "markdown",
   "id": "6b3e55bd",
   "metadata": {},
   "source": [
    "# Classification metrices"
   ]
  },
  {
   "cell_type": "markdown",
   "id": "1f333bae",
   "metadata": {},
   "source": [
    "### Classification Report"
   ]
  },
  {
   "cell_type": "markdown",
   "id": "7807a65d",
   "metadata": {},
   "source": [
    "Classification report is another way to evaluate the classification model performance. It displays the precision, recall, f1 and support scores for the model. I have described these terms in later.\n",
    "\n",
    "We can print a classification report as follows:-"
   ]
  },
  {
   "cell_type": "code",
   "execution_count": 202,
   "id": "3553a13a",
   "metadata": {},
   "outputs": [
    {
     "name": "stdout",
     "output_type": "stream",
     "text": [
      "              precision    recall  f1-score   support\n",
      "\n",
      "      Lethal       0.68      0.72      0.70      5001\n",
      "  Not Lethal       0.62      0.57      0.60      3941\n",
      "\n",
      "    accuracy                           0.66      8942\n",
      "   macro avg       0.65      0.65      0.65      8942\n",
      "weighted avg       0.66      0.66      0.66      8942\n",
      "\n"
     ]
    }
   ],
   "source": [
    "from sklearn.metrics import classification_report\n",
    "\n",
    "print(classification_report(Y_test, y_pred))"
   ]
  },
  {
   "cell_type": "markdown",
   "id": "6c515e34",
   "metadata": {},
   "source": [
    "### Classification accuracy"
   ]
  },
  {
   "cell_type": "code",
   "execution_count": 203,
   "id": "aff6b67b",
   "metadata": {},
   "outputs": [],
   "source": [
    "TP = cm[0, 0]\n",
    "TN = cm[1, 1]\n",
    "FP = cm[0, 1]\n",
    "FN = cm[1, 0]"
   ]
  },
  {
   "cell_type": "code",
   "execution_count": 204,
   "id": "a406df61",
   "metadata": {},
   "outputs": [
    {
     "name": "stdout",
     "output_type": "stream",
     "text": [
      "Classification accuracy : 0.6579\n"
     ]
    }
   ],
   "source": [
    "# print classification accuracy\n",
    "\n",
    "classification_accuracy = (TP + TN) / float(TP + TN + FP + FN)\n",
    "\n",
    "print('Classification accuracy : {0:0.4f}'.format(classification_accuracy))"
   ]
  },
  {
   "cell_type": "markdown",
   "id": "69573cd3",
   "metadata": {},
   "source": [
    "### Classification Error"
   ]
  },
  {
   "cell_type": "code",
   "execution_count": 205,
   "id": "d5246aa5",
   "metadata": {},
   "outputs": [
    {
     "name": "stdout",
     "output_type": "stream",
     "text": [
      "Classification error : 0.3421\n"
     ]
    }
   ],
   "source": [
    "# print classification error\n",
    "\n",
    "classification_error = (FP + FN) / float(TP + TN + FP + FN)\n",
    "\n",
    "print('Classification error : {0:0.4f}'.format(classification_error))"
   ]
  },
  {
   "cell_type": "markdown",
   "id": "fb71e044",
   "metadata": {},
   "source": [
    "### Precision"
   ]
  },
  {
   "cell_type": "markdown",
   "id": "1638f78b",
   "metadata": {},
   "source": [
    "Precision can be defined as the percentage of correctly predicted positive outcomes out of all the predicted positive outcomes. It can be given as the ratio of true positives (TP) to the sum of true and false positives (TP + FP).\n",
    "\n",
    "So, Precision identifies the proportion of correctly predicted positive outcome. It is more concerned with the positive class than the negative class.\n",
    "\n",
    "Mathematically, precision can be defined as the ratio of TP to (TP + FP)."
   ]
  },
  {
   "cell_type": "code",
   "execution_count": 206,
   "id": "27fff181",
   "metadata": {},
   "outputs": [
    {
     "name": "stdout",
     "output_type": "stream",
     "text": [
      "Precision : 0.7245\n"
     ]
    }
   ],
   "source": [
    "# print precision score\n",
    "\n",
    "precision = TP / float(TP + FP)\n",
    "\n",
    "\n",
    "print('Precision : {0:0.4f}'.format(precision))"
   ]
  },
  {
   "cell_type": "markdown",
   "id": "cd003aff",
   "metadata": {},
   "source": [
    "### Recall"
   ]
  },
  {
   "cell_type": "markdown",
   "id": "dc6f2c36",
   "metadata": {},
   "source": [
    "Recall can be defined as the percentage of correctly predicted positive outcomes out of all the actual positive outcomes. It can be given as the ratio of true positives (TP) to the sum of true positives and false negatives (TP + FN). Recall is also called Sensitivity.\n",
    "\n",
    "Recall identifies the proportion of correctly predicted actual positives.\n",
    "\n",
    "Mathematically, recall can be given as the ratio of TP to (TP + FN)."
   ]
  },
  {
   "cell_type": "code",
   "execution_count": 207,
   "id": "24a8f3d8",
   "metadata": {},
   "outputs": [
    {
     "name": "stdout",
     "output_type": "stream",
     "text": [
      "Recall or Sensitivity : 0.6831\n"
     ]
    }
   ],
   "source": [
    "recall = TP / float(TP + FN)\n",
    "\n",
    "print('Recall or Sensitivity : {0:0.4f}'.format(recall))"
   ]
  },
  {
   "cell_type": "code",
   "execution_count": 208,
   "id": "45dfe535",
   "metadata": {},
   "outputs": [],
   "source": [
    "### True Positive Rate"
   ]
  },
  {
   "cell_type": "markdown",
   "id": "00283c20",
   "metadata": {},
   "source": [
    "True Positive Rate is synonymous with Recall."
   ]
  },
  {
   "cell_type": "code",
   "execution_count": 211,
   "id": "e320ca40",
   "metadata": {},
   "outputs": [
    {
     "name": "stdout",
     "output_type": "stream",
     "text": [
      "True Positive Rate : 0.6831\n"
     ]
    }
   ],
   "source": [
    "true_positive_rate = TP / float(TP + FN)\n",
    "\n",
    "\n",
    "print('True Positive Rate : {0:0.4f}'.format(true_positive_rate))"
   ]
  },
  {
   "cell_type": "markdown",
   "id": "d3c68feb",
   "metadata": {},
   "source": [
    "### False Positive Rate"
   ]
  },
  {
   "cell_type": "markdown",
   "id": "cf27bb77",
   "metadata": {},
   "source": [
    "false_positive_rate = FP / float(FP + TN)\n",
    "\n",
    "\n",
    "print('False Positive Rate : {0:0.4f}'.format(false_positive_rate))"
   ]
  },
  {
   "cell_type": "markdown",
   "id": "b42b1ea6",
   "metadata": {},
   "source": [
    "### Specificity"
   ]
  },
  {
   "cell_type": "code",
   "execution_count": 212,
   "id": "714cc4a1",
   "metadata": {},
   "outputs": [
    {
     "name": "stdout",
     "output_type": "stream",
     "text": [
      "Specificity : 0.6212\n"
     ]
    }
   ],
   "source": [
    "specificity = TN / (TN + FP)\n",
    "\n",
    "print('Specificity : {0:0.4f}'.format(specificity))"
   ]
  },
  {
   "cell_type": "markdown",
   "id": "a47f8753",
   "metadata": {},
   "source": [
    "### f1-score"
   ]
  },
  {
   "cell_type": "markdown",
   "id": "f94fda71",
   "metadata": {},
   "source": [
    "f1-score is the weighted harmonic mean of precision and recall. The best possible f1-score would be 1.0 and the worst would be 0.0. f1-score is the harmonic mean of precision and recall. So, f1-score is always lower than accuracy measures as they embed precision and recall into their computation. The weighted average of f1-score should be used to compare classifier models, not global accuracy."
   ]
  },
  {
   "cell_type": "markdown",
   "id": "56e5f27a",
   "metadata": {},
   "source": [
    "### Support"
   ]
  },
  {
   "cell_type": "markdown",
   "id": "aeeb2afb",
   "metadata": {},
   "source": [
    "Support is the actual number of occurrences of the class in our dataset."
   ]
  },
  {
   "cell_type": "markdown",
   "id": "a238942b",
   "metadata": {},
   "source": [
    "# Calculate class probabilities "
   ]
  },
  {
   "cell_type": "code",
   "execution_count": 213,
   "id": "1b5127cd",
   "metadata": {},
   "outputs": [
    {
     "data": {
      "text/plain": [
       "array([[0.66718087, 0.33281913],\n",
       "       [0.40767442, 0.59232558],\n",
       "       [0.61114682, 0.38885318],\n",
       "       [0.75160181, 0.24839819],\n",
       "       [0.90555753, 0.09444247],\n",
       "       [0.38747834, 0.61252166],\n",
       "       [0.75160181, 0.24839819],\n",
       "       [0.83135329, 0.16864671],\n",
       "       [0.75160181, 0.24839819],\n",
       "       [0.75160181, 0.24839819]])"
      ]
     },
     "execution_count": 213,
     "metadata": {},
     "output_type": "execute_result"
    }
   ],
   "source": [
    "# print the first 10 predicted probabilities of two classes- 0 and 1\n",
    "\n",
    "y_pred_prob = cnb.predict_proba(X_test)[0:10]\n",
    "\n",
    "y_pred_prob"
   ]
  },
  {
   "cell_type": "markdown",
   "id": "70c3eb3c",
   "metadata": {},
   "source": [
    "### Observations"
   ]
  },
  {
   "cell_type": "markdown",
   "id": "3c05f69b",
   "metadata": {},
   "source": [
    "In each row, the numbers sum to 1.\n",
    "\n",
    "There are 2 columns which correspond to 2 classes - Non Lethal Attack and Lethal Attack\n",
    "\n",
    "Class 0 means that a lethal attack did not occur\n",
    "\n",
    "Class 1 means that a lethal attack did occur\n",
    "\n",
    "Importance of predicted probabilities\n",
    "\n",
    "We can rank the observations by probability of whether a lethal attack happens or does not happen.\n",
    "predict_proba process\n",
    "\n",
    "Predicts the probabilities\n",
    "\n",
    "Choose the class with the highest probability"
   ]
  },
  {
   "cell_type": "code",
   "execution_count": 214,
   "id": "d2ffc150",
   "metadata": {},
   "outputs": [
    {
     "data": {
      "text/html": [
       "<div>\n",
       "<style scoped>\n",
       "    .dataframe tbody tr th:only-of-type {\n",
       "        vertical-align: middle;\n",
       "    }\n",
       "\n",
       "    .dataframe tbody tr th {\n",
       "        vertical-align: top;\n",
       "    }\n",
       "\n",
       "    .dataframe thead th {\n",
       "        text-align: right;\n",
       "    }\n",
       "</style>\n",
       "<table border=\"1\" class=\"dataframe\">\n",
       "  <thead>\n",
       "    <tr style=\"text-align: right;\">\n",
       "      <th></th>\n",
       "      <th>Prob of No Lethal Attack</th>\n",
       "      <th>Prob of Lethal Attack</th>\n",
       "    </tr>\n",
       "  </thead>\n",
       "  <tbody>\n",
       "    <tr>\n",
       "      <th>0</th>\n",
       "      <td>0.667181</td>\n",
       "      <td>0.332819</td>\n",
       "    </tr>\n",
       "    <tr>\n",
       "      <th>1</th>\n",
       "      <td>0.407674</td>\n",
       "      <td>0.592326</td>\n",
       "    </tr>\n",
       "    <tr>\n",
       "      <th>2</th>\n",
       "      <td>0.611147</td>\n",
       "      <td>0.388853</td>\n",
       "    </tr>\n",
       "    <tr>\n",
       "      <th>3</th>\n",
       "      <td>0.751602</td>\n",
       "      <td>0.248398</td>\n",
       "    </tr>\n",
       "    <tr>\n",
       "      <th>4</th>\n",
       "      <td>0.905558</td>\n",
       "      <td>0.094442</td>\n",
       "    </tr>\n",
       "    <tr>\n",
       "      <th>5</th>\n",
       "      <td>0.387478</td>\n",
       "      <td>0.612522</td>\n",
       "    </tr>\n",
       "    <tr>\n",
       "      <th>6</th>\n",
       "      <td>0.751602</td>\n",
       "      <td>0.248398</td>\n",
       "    </tr>\n",
       "    <tr>\n",
       "      <th>7</th>\n",
       "      <td>0.831353</td>\n",
       "      <td>0.168647</td>\n",
       "    </tr>\n",
       "    <tr>\n",
       "      <th>8</th>\n",
       "      <td>0.751602</td>\n",
       "      <td>0.248398</td>\n",
       "    </tr>\n",
       "    <tr>\n",
       "      <th>9</th>\n",
       "      <td>0.751602</td>\n",
       "      <td>0.248398</td>\n",
       "    </tr>\n",
       "  </tbody>\n",
       "</table>\n",
       "</div>"
      ],
      "text/plain": [
       "   Prob of No Lethal Attack  Prob of Lethal Attack\n",
       "0                  0.667181               0.332819\n",
       "1                  0.407674               0.592326\n",
       "2                  0.611147               0.388853\n",
       "3                  0.751602               0.248398\n",
       "4                  0.905558               0.094442\n",
       "5                  0.387478               0.612522\n",
       "6                  0.751602               0.248398\n",
       "7                  0.831353               0.168647\n",
       "8                  0.751602               0.248398\n",
       "9                  0.751602               0.248398"
      ]
     },
     "execution_count": 214,
     "metadata": {},
     "output_type": "execute_result"
    }
   ],
   "source": [
    "# store the probabilities in dataframe\n",
    "\n",
    "y_pred_prob_df = pd.DataFrame(data = y_pred_prob, columns = ['Prob of No Lethal Attack', 'Prob of Lethal Attack'])\n",
    "\n",
    "y_pred_prob_df"
   ]
  },
  {
   "cell_type": "code",
   "execution_count": 215,
   "id": "2dd702a6",
   "metadata": {},
   "outputs": [
    {
     "data": {
      "text/plain": [
       "array([0.33281913, 0.59232558, 0.38885318, 0.24839819, 0.09444247,\n",
       "       0.61252166, 0.24839819, 0.16864671, 0.24839819, 0.24839819])"
      ]
     },
     "execution_count": 215,
     "metadata": {},
     "output_type": "execute_result"
    }
   ],
   "source": [
    "# print the first 10 predicted probabilities for class 1 - Lethal Attack\n",
    "\n",
    "cnb.predict_proba(X_test)[0:10, 1]"
   ]
  },
  {
   "cell_type": "code",
   "execution_count": 216,
   "id": "3da1e933",
   "metadata": {},
   "outputs": [],
   "source": [
    "# store the predicted probabilities for class 1 - Probability of >50K\n",
    "\n",
    "y_pred1 = cnb.predict_proba(X_test)[:, 1]"
   ]
  },
  {
   "cell_type": "code",
   "execution_count": 217,
   "id": "373b0ce9",
   "metadata": {},
   "outputs": [
    {
     "data": {
      "text/plain": [
       "Text(0, 0.5, 'Frequency')"
      ]
     },
     "execution_count": 217,
     "metadata": {},
     "output_type": "execute_result"
    },
    {
     "data": {
      "image/png": "[encoded data removed]",
      "text/plain": [
       "<Figure size 432x288 with 1 Axes>"
      ]
     },
     "metadata": {
      "needs_background": "light"
     },
     "output_type": "display_data"
    }
   ],
   "source": [
    "# plot histogram of predicted probabilities\n",
    "\n",
    "# adjust the font size \n",
    "plt.rcParams['font.size'] = 12\n",
    "\n",
    "# plot histogram with 10 bins\n",
    "plt.hist(y_pred1, bins = 10)\n",
    "\n",
    "# set the title of predicted probabilities\n",
    "plt.title('Histogram of predicted probabilities of Lethal Attacks')\n",
    "\n",
    "# set the x-axis limit\n",
    "plt.xlim(0,1)\n",
    "\n",
    "# set the title\n",
    "plt.xlabel('Predicted probabilities of Lethal Attack')\n",
    "plt.ylabel('Frequency')"
   ]
  },
  {
   "cell_type": "markdown",
   "id": "106b4520",
   "metadata": {},
   "source": [
    "The above plot reveals a highly negatively or left skewed distribution. It also indicates that most attacks have a high probability of being lethal as indicated by the right most bar"
   ]
  },
  {
   "cell_type": "markdown",
   "id": "b0f02f67",
   "metadata": {},
   "source": [
    "# ROC - AUC "
   ]
  },
  {
   "cell_type": "markdown",
   "id": "7669515e",
   "metadata": {},
   "source": [
    "### Roc Curve"
   ]
  },
  {
   "cell_type": "markdown",
   "id": "28a51499",
   "metadata": {},
   "source": [
    "Another tool to measure the classification model performance visually is ROC Curve. ROC Curve stands for Receiver Operating Characteristic Curve. An ROC Curve is a plot which shows the performance of a classification model at various classification threshold levels.\n",
    "\n",
    "The ROC Curve plots the True Positive Rate (TPR) against the False Positive Rate (FPR) at various threshold levels.\n",
    "\n",
    "True Positive Rate (TPR) is also called Recall. It is defined as the ratio of TP to (TP + FN).\n",
    "\n",
    "False Positive Rate (FPR) is defined as the ratio of FP to (FP + TN).\n",
    "\n",
    "In the ROC Curve, we will focus on the TPR (True Positive Rate) and FPR (False Positive Rate) of a single point. This will give us the general performance of the ROC curve which consists of the TPR and FPR at various threshold levels. So, an ROC Curve plots TPR vs FPR at different classification threshold levels. If we lower the threshold levels, it may result in more items being classified as positive. It will increase both True Positives (TP) and False Positives (FP)."
   ]
  },
  {
   "cell_type": "code",
   "execution_count": 218,
   "id": "39268cd9",
   "metadata": {},
   "outputs": [
    {
     "data": {
      "image/png": "[encoded data removed]",
      "text/plain": [
       "<Figure size 432x288 with 1 Axes>"
      ]
     },
     "metadata": {
      "needs_background": "light"
     },
     "output_type": "display_data"
    }
   ],
   "source": [
    "# plot ROC Curve\n",
    "\n",
    "from sklearn.metrics import roc_curve\n",
    "\n",
    "fpr, tpr, thresholds = roc_curve(Y_test, y_pred1, pos_label = 'Lethal')\n",
    "\n",
    "plt.figure(figsize = (6,4))\n",
    "\n",
    "plt.plot(fpr, tpr, linewidth = 2)\n",
    "\n",
    "plt.plot([0,1], [0,1], 'k--' )\n",
    "\n",
    "plt.rcParams['font.size'] = 12\n",
    "\n",
    "plt.title('ROC curve for Gaussian Naive Bayes Classifier for Predicting Lethal Attack')\n",
    "\n",
    "plt.xlabel('False Positive Rate (1 - Specificity)')\n",
    "\n",
    "plt.ylabel('True Positive Rate (Sensitivity)')\n",
    "\n",
    "plt.show()"
   ]
  },
  {
   "cell_type": "markdown",
   "id": "765cd8de",
   "metadata": {},
   "source": [
    "ROC curve help us to choose a threshold level that balances sensitivity and specificity for a particular context."
   ]
  },
  {
   "cell_type": "markdown",
   "id": "b6f58762",
   "metadata": {},
   "source": [
    "### ROC AUC"
   ]
  },
  {
   "cell_type": "markdown",
   "id": "6a0b265a",
   "metadata": {},
   "source": [
    "ROC AUC stands for Receiver Operating Characteristic - Area Under Curve. It is a technique to compare classifier performance. In this technique, we measure the area under the curve (AUC). A perfect classifier will have a ROC AUC equal to 1, whereas a purely random classifier will have a ROC AUC equal to 0.5.\n",
    "\n",
    "So, ROC AUC is the percentage of the ROC plot that is underneath the curve."
   ]
  },
  {
   "cell_type": "code",
   "execution_count": 219,
   "id": "692d01b2",
   "metadata": {},
   "outputs": [
    {
     "name": "stdout",
     "output_type": "stream",
     "text": [
      "ROC AUC : 0.6852\n"
     ]
    }
   ],
   "source": [
    "# compute ROC AUC\n",
    "\n",
    "from sklearn.metrics import roc_auc_score\n",
    "\n",
    "ROC_AUC = roc_auc_score(Y_test, y_pred1)\n",
    "\n",
    "print('ROC AUC : {:.4f}'.format(ROC_AUC))"
   ]
  },
  {
   "cell_type": "markdown",
   "id": "a51fbd1c",
   "metadata": {},
   "source": [
    "Interpretation\\\n",
    "\n",
    "ROC AUC is a single number summary of classifier performance. The higher the value, the better the classifier.\n",
    "\n",
    "ROC AUC of our model is far from 1 and indeed it is below the null accuracy. So, we can conclude that our classifier does a poor job in predicting whether a lethal terrorist attack will occur or not."
   ]
  },
  {
   "cell_type": "code",
   "execution_count": 220,
   "id": "4b98c94e",
   "metadata": {},
   "outputs": [
    {
     "name": "stdout",
     "output_type": "stream",
     "text": [
      "Cross validated ROC AUC : 0.6883\n"
     ]
    }
   ],
   "source": [
    "# calculate cross-validated ROC AUC \n",
    "\n",
    "from sklearn.model_selection import cross_val_score\n",
    "\n",
    "Cross_validated_ROC_AUC = cross_val_score(cnb, X_train, Y_train, cv = 5, scoring = 'roc_auc').mean()\n",
    "\n",
    "print('Cross validated ROC AUC : {:.4f}'.format(Cross_validated_ROC_AUC))"
   ]
  },
  {
   "cell_type": "markdown",
   "id": "7e72cc9c",
   "metadata": {},
   "source": [
    "### k-Fold Cross Validation"
   ]
  },
  {
   "cell_type": "code",
   "execution_count": 221,
   "id": "623b2477",
   "metadata": {},
   "outputs": [
    {
     "name": "stdout",
     "output_type": "stream",
     "text": [
      "Cross-validation scores:[0.67499068 0.65598211 0.66977264 0.65747298 0.65287099 0.65734526\n",
      " 0.65920955 0.64578673 0.65324385 0.64131245]\n"
     ]
    }
   ],
   "source": [
    "# Applying 10-Fold Cross Validation\n",
    "\n",
    "from sklearn.model_selection import cross_val_score\n",
    "\n",
    "scores = cross_val_score(cnb, X_train, Y_train, cv = 10, scoring = 'accuracy')\n",
    "\n",
    "print('Cross-validation scores:{}'.format(scores))"
   ]
  },
  {
   "cell_type": "markdown",
   "id": "e9bad959",
   "metadata": {},
   "source": [
    "We can summarize the cross-validation accuracy by calculating its mean."
   ]
  },
  {
   "cell_type": "code",
   "execution_count": 222,
   "id": "d022fe26",
   "metadata": {},
   "outputs": [
    {
     "name": "stdout",
     "output_type": "stream",
     "text": [
      "Average cross-validation score: 0.6568\n"
     ]
    }
   ],
   "source": [
    "# compute Average cross-validation score\n",
    "\n",
    "print('Average cross-validation score: {:.4f}'.format(scores.mean()))"
   ]
  },
  {
   "cell_type": "markdown",
   "id": "ea777316",
   "metadata": {},
   "source": [
    "### Intrepretation"
   ]
  },
  {
   "cell_type": "markdown",
   "id": "6568a980",
   "metadata": {},
   "source": [
    "Using the mean cross-validation, we can conclude that we expect the model to be 0.6568% accurate on average.\n",
    "\n",
    "If we look at all the 10 scores produced by the 10-fold cross-validation, we can also conclude that there is a relatively small variance in the accuracy between folds, ranging from 65% accuracy to 67% accuracy. So, we can conclude that the model is independent of the particular folds used for training.\n",
    "\n",
    "Our original model accuracy is 66%, but the mean cross-validation accuracy is 0.6568. So, the 10-fold cross-validation accuracy does not result in performance improvement for this model."
   ]
  },
  {
   "cell_type": "markdown",
   "id": "83b89dba",
   "metadata": {},
   "source": [
    "# Results and conclusion"
   ]
  },
  {
   "cell_type": "markdown",
   "id": "434febeb",
   "metadata": {},
   "source": [
    "In this project, I built a Categorical Naïve Bayes Classifier model to predict whether a lethsl terrorist attack occurs.\\ The model yields a good performance as indicated by the model accuracy which was found to be 65.7907.\\\n",
    "\n",
    "The training-set accuracy score is 65.7173 while the test-set accuracy to be 65.7907. These two values are quite comparable. So, there is no sign of overfitting.\\\n",
    "\n",
    "I have compared the model accuracy score which is 65.7907 with null accuracy score which is 55.9271. So, we can conclude that our Gaussian Naïve Bayes classifier model is doing a very good job in predicting the class labels.\\\n",
    "\n",
    "ROC AUC of our model approaches is far from 1. So, we can conclude that our classifier does a very poor job in predicting whether a lethal attack occurs or not.\\\n",
    "\n",
    "Using the mean cross-validation, we can conclude that we expect the model to be around 66.68% accurate on average.\\\n",
    "\n",
    "If we look at all the 10 scores produced by the 10-fold cross-validation, we can also conclude that there is a relatively small variance in the accuracy between folds, ranging from 65% accuracy to 67% accuracy. So, we can conclude that the model is independent of the particular folds used for training.\\\n",
    "\n",
    "Our original model accuracy is 65.7907, but the mean cross-validation accuracy is 0.6568. So, the 10-fold cross-validation accuracy does not result in performance improvement for this model."
   ]
  }
 ],
 "metadata": {
  "kernelspec": {
   "display_name": "Python 3 (ipykernel)",
   "language": "python",
   "name": "python3"
  },
  "language_info": {
   "codemirror_mode": {
    "name": "ipython",
    "version": 3
   },
   "file_extension": ".py",
   "mimetype": "text/x-python",
   "name": "python",
   "nbconvert_exporter": "python",
   "pygments_lexer": "ipython3",
   "version": "3.10.0"
  }
 },
 "nbformat": 4,
 "nbformat_minor": 5
}
